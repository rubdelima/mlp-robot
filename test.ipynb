{
 "cells": [
  {
   "cell_type": "code",
   "execution_count": 2,
   "id": "e32e1f55",
   "metadata": {},
   "outputs": [],
   "source": [
    "import pickle\n",
    "\n",
    "with open(\"models/mlp_base.pkl\", \"rb\") as f:\n",
    "    model = pickle.load(f)\n",
    "\n",
    "min_max_value = {\"xc_px\": [-282.0, 293.0], \"yc_px\": [-53.0, 282.0], \"xc\": [-5.274, 5.076], \"yc\": [-0.954, 5.076]}\n"
   ]
  },
  {
   "cell_type": "code",
   "execution_count": 5,
   "id": "1d497a1b",
   "metadata": {},
   "outputs": [
    {
     "name": "stdout",
     "output_type": "stream",
     "text": [
      "Posições Preditas: axis0=-29.13630532295956, axis1=110.61176720019529, axis2=113.7077431506562, axis3=3.8348647717669007\n"
     ]
    }
   ],
   "source": [
    "def reverse_min_max(value, column_name):\n",
    "    min_value, max_value = min_max_value[column_name]\n",
    "    return value * (max_value - min_value) + min_value\n",
    "\n",
    "xc_px, yc_px, xc, yc  = -275.0,145.0,4.95,2.61\n",
    "\n",
    "xc_px, yc_px, xc, yc = reverse_min_max(xc_px, 'xc_px'), \\\n",
    "        reverse_min_max(yc_px, 'yc_px'), reverse_min_max(xc, 'xc'), reverse_min_max(yc, 'yc')\n",
    "                \n",
    "predicted_angles = model.predict([[xc_px, yc_px, xc, yc]])\n",
    "t0, t1, t2, t3 = predicted_angles[0]\n",
    "print(f\"Posições Preditas: axis0={t0}, axis1={t1}, axis2={t2}, axis3={t3}\")"
   ]
  }
 ],
 "metadata": {
  "kernelspec": {
   "display_name": ".auto",
   "language": "python",
   "name": "python3"
  },
  "language_info": {
   "codemirror_mode": {
    "name": "ipython",
    "version": 3
   },
   "file_extension": ".py",
   "mimetype": "text/x-python",
   "name": "python",
   "nbconvert_exporter": "python",
   "pygments_lexer": "ipython3",
   "version": "3.12.9"
  }
 },
 "nbformat": 4,
 "nbformat_minor": 5
}

{
 "cells": [
  {
   "cell_type": "code",
   "execution_count": 1,
   "id": "e32e1f55",
   "metadata": {},
   "outputs": [
    {
     "name": "stdout",
     "output_type": "stream",
     "text": [
      "ERROR! Session/line number was not unique in database. History logging moved to new session 248\n"
     ]
    }
   ],
   "source": [
    "import pickle\n",
    "\n",
    "with open(\"models/mlp_base.pkl\", \"rb\") as f:\n",
    "    model = pickle.load(f)\n",
    "\n",
    "min_max_value = {\"xc_px\": [-282.0, 293.0], \"yc_px\": [-53.0, 282.0], \"xc\": [-5.274, 5.076], \"yc\": [-0.954, 5.076]}\n",
    "\n",
    "for column in min_max_value.keys():\n",
    "    with open(f\"scalers/{column}.pkl\", \"rb\") as f:\n",
    "        min_max_value[column] = pickle.load(f)"
   ]
  },
  {
   "cell_type": "code",
   "execution_count": 5,
   "id": "7ca836d3",
   "metadata": {},
   "outputs": [],
   "source": [
    "import numpy as np"
   ]
  },
  {
   "cell_type": "code",
   "execution_count": 15,
   "id": "62bd472d",
   "metadata": {},
   "outputs": [
    {
     "data": {
      "text/plain": [
       "-158407.0"
      ]
     },
     "execution_count": 15,
     "metadata": {},
     "output_type": "execute_result"
    }
   ],
   "source": [
    "xc_px = np.array([-275.0])\n",
    "\n",
    "xc_px = min_max_value['xc_px'].inverse_transform([xc_px])[0][0]\n",
    "\n",
    "xc_px"
   ]
  },
  {
   "cell_type": "code",
   "execution_count": 7,
   "id": "d4290271",
   "metadata": {},
   "outputs": [
    {
     "data": {
      "text/plain": [
       "array([[-158407., -158407.]])"
      ]
     },
     "execution_count": 7,
     "metadata": {},
     "output_type": "execute_result"
    }
   ],
   "source": [
    "xc_px"
   ]
  },
  {
   "cell_type": "code",
   "execution_count": 3,
   "id": "1d497a1b",
   "metadata": {},
   "outputs": [
    {
     "ename": "ValueError",
     "evalue": "Expected 2D array, got 1D array instead:\narray=[-275.].\nReshape your data either using array.reshape(-1, 1) if your data has a single feature or array.reshape(1, -1) if it contains a single sample.",
     "output_type": "error",
     "traceback": [
      "\u001b[31m---------------------------------------------------------------------------\u001b[39m",
      "\u001b[31mValueError\u001b[39m                                Traceback (most recent call last)",
      "\u001b[36mCell\u001b[39m\u001b[36m \u001b[39m\u001b[32mIn[3]\u001b[39m\u001b[32m, line 3\u001b[39m\n\u001b[32m      1\u001b[39m xc_px, yc_px, xc, yc  = -\u001b[32m275.0\u001b[39m, \u001b[32m145.0\u001b[39m, \u001b[32m4.95\u001b[39m, \u001b[32m2.61\u001b[39m\n\u001b[32m----> \u001b[39m\u001b[32m3\u001b[39m xc_px, yc_px, xc, yc = \u001b[43mmin_max_value\u001b[49m\u001b[43m[\u001b[49m\u001b[33;43m'\u001b[39;49m\u001b[33;43mxc_px\u001b[39;49m\u001b[33;43m'\u001b[39;49m\u001b[43m]\u001b[49m\u001b[43m.\u001b[49m\u001b[43minverse_transform\u001b[49m\u001b[43m(\u001b[49m\u001b[43m[\u001b[49m\u001b[43mxc_px\u001b[49m\u001b[43m]\u001b[49m\u001b[43m)\u001b[49m, min_max_value[\u001b[33m'\u001b[39m\u001b[33myc_px\u001b[39m\u001b[33m'\u001b[39m].reverse_min_max([yc_px]), min_max_value[\u001b[33m'\u001b[39m\u001b[33mxc\u001b[39m\u001b[33m'\u001b[39m].inverse_transform([xc]), min_max_value[\u001b[33m'\u001b[39m\u001b[33myc\u001b[39m\u001b[33m'\u001b[39m].reverse_min_max([yc])\n\u001b[32m      5\u001b[39m predicted_angles = model.predict([[xc_px, yc_px, xc, yc]])\n\u001b[32m      6\u001b[39m t0, t1, t2, t3 = predicted_angles[\u001b[32m0\u001b[39m]\n",
      "\u001b[36mFile \u001b[39m\u001b[32mc:\\Users\\pedro\\Documents\\NOVOdeltadelta\\pog\\mlp-robot\\.auto\\Lib\\site-packages\\sklearn\\preprocessing\\_data.py:573\u001b[39m, in \u001b[36mMinMaxScaler.inverse_transform\u001b[39m\u001b[34m(self, X)\u001b[39m\n\u001b[32m    569\u001b[39m check_is_fitted(\u001b[38;5;28mself\u001b[39m)\n\u001b[32m    571\u001b[39m xp, _ = get_namespace(X)\n\u001b[32m--> \u001b[39m\u001b[32m573\u001b[39m X = \u001b[43mcheck_array\u001b[49m\u001b[43m(\u001b[49m\n\u001b[32m    574\u001b[39m \u001b[43m    \u001b[49m\u001b[43mX\u001b[49m\u001b[43m,\u001b[49m\n\u001b[32m    575\u001b[39m \u001b[43m    \u001b[49m\u001b[43mcopy\u001b[49m\u001b[43m=\u001b[49m\u001b[38;5;28;43mself\u001b[39;49m\u001b[43m.\u001b[49m\u001b[43mcopy\u001b[49m\u001b[43m,\u001b[49m\n\u001b[32m    576\u001b[39m \u001b[43m    \u001b[49m\u001b[43mdtype\u001b[49m\u001b[43m=\u001b[49m\u001b[43m_array_api\u001b[49m\u001b[43m.\u001b[49m\u001b[43msupported_float_dtypes\u001b[49m\u001b[43m(\u001b[49m\u001b[43mxp\u001b[49m\u001b[43m)\u001b[49m\u001b[43m,\u001b[49m\n\u001b[32m    577\u001b[39m \u001b[43m    \u001b[49m\u001b[43mforce_writeable\u001b[49m\u001b[43m=\u001b[49m\u001b[38;5;28;43;01mTrue\u001b[39;49;00m\u001b[43m,\u001b[49m\n\u001b[32m    578\u001b[39m \u001b[43m    \u001b[49m\u001b[43mensure_all_finite\u001b[49m\u001b[43m=\u001b[49m\u001b[33;43m\"\u001b[39;49m\u001b[33;43mallow-nan\u001b[39;49m\u001b[33;43m\"\u001b[39;49m\u001b[43m,\u001b[49m\n\u001b[32m    579\u001b[39m \u001b[43m\u001b[49m\u001b[43m)\u001b[49m\n\u001b[32m    581\u001b[39m X -= \u001b[38;5;28mself\u001b[39m.min_\n\u001b[32m    582\u001b[39m X /= \u001b[38;5;28mself\u001b[39m.scale_\n",
      "\u001b[36mFile \u001b[39m\u001b[32mc:\\Users\\pedro\\Documents\\NOVOdeltadelta\\pog\\mlp-robot\\.auto\\Lib\\site-packages\\sklearn\\utils\\validation.py:1093\u001b[39m, in \u001b[36mcheck_array\u001b[39m\u001b[34m(array, accept_sparse, accept_large_sparse, dtype, order, copy, force_writeable, force_all_finite, ensure_all_finite, ensure_non_negative, ensure_2d, allow_nd, ensure_min_samples, ensure_min_features, estimator, input_name)\u001b[39m\n\u001b[32m   1086\u001b[39m         \u001b[38;5;28;01melse\u001b[39;00m:\n\u001b[32m   1087\u001b[39m             msg = (\n\u001b[32m   1088\u001b[39m                 \u001b[33mf\u001b[39m\u001b[33m\"\u001b[39m\u001b[33mExpected 2D array, got 1D array instead:\u001b[39m\u001b[38;5;130;01m\\n\u001b[39;00m\u001b[33marray=\u001b[39m\u001b[38;5;132;01m{\u001b[39;00marray\u001b[38;5;132;01m}\u001b[39;00m\u001b[33m.\u001b[39m\u001b[38;5;130;01m\\n\u001b[39;00m\u001b[33m\"\u001b[39m\n\u001b[32m   1089\u001b[39m                 \u001b[33m\"\u001b[39m\u001b[33mReshape your data either using array.reshape(-1, 1) if \u001b[39m\u001b[33m\"\u001b[39m\n\u001b[32m   1090\u001b[39m                 \u001b[33m\"\u001b[39m\u001b[33myour data has a single feature or array.reshape(1, -1) \u001b[39m\u001b[33m\"\u001b[39m\n\u001b[32m   1091\u001b[39m                 \u001b[33m\"\u001b[39m\u001b[33mif it contains a single sample.\u001b[39m\u001b[33m\"\u001b[39m\n\u001b[32m   1092\u001b[39m             )\n\u001b[32m-> \u001b[39m\u001b[32m1093\u001b[39m         \u001b[38;5;28;01mraise\u001b[39;00m \u001b[38;5;167;01mValueError\u001b[39;00m(msg)\n\u001b[32m   1095\u001b[39m \u001b[38;5;28;01mif\u001b[39;00m dtype_numeric \u001b[38;5;129;01mand\u001b[39;00m \u001b[38;5;28mhasattr\u001b[39m(array.dtype, \u001b[33m\"\u001b[39m\u001b[33mkind\u001b[39m\u001b[33m\"\u001b[39m) \u001b[38;5;129;01mand\u001b[39;00m array.dtype.kind \u001b[38;5;129;01min\u001b[39;00m \u001b[33m\"\u001b[39m\u001b[33mUSV\u001b[39m\u001b[33m\"\u001b[39m:\n\u001b[32m   1096\u001b[39m     \u001b[38;5;28;01mraise\u001b[39;00m \u001b[38;5;167;01mValueError\u001b[39;00m(\n\u001b[32m   1097\u001b[39m         \u001b[33m\"\u001b[39m\u001b[33mdtype=\u001b[39m\u001b[33m'\u001b[39m\u001b[33mnumeric\u001b[39m\u001b[33m'\u001b[39m\u001b[33m is not compatible with arrays of bytes/strings.\u001b[39m\u001b[33m\"\u001b[39m\n\u001b[32m   1098\u001b[39m         \u001b[33m\"\u001b[39m\u001b[33mConvert your data to numeric values explicitly instead.\u001b[39m\u001b[33m\"\u001b[39m\n\u001b[32m   1099\u001b[39m     )\n",
      "\u001b[31mValueError\u001b[39m: Expected 2D array, got 1D array instead:\narray=[-275.].\nReshape your data either using array.reshape(-1, 1) if your data has a single feature or array.reshape(1, -1) if it contains a single sample."
     ]
    }
   ],
   "source": [
    "xc_px, yc_px, xc, yc  = -275.0, 145.0, 4.95, 2.61\n",
    "\n",
    "xc_px, yc_px, xc, yc = min_max_value['xc_px'].inverse_transform([xc_px]), min_max_value['yc_px'].reverse_min_max([yc_px]), min_max_value['xc'].inverse_transform([xc]), min_max_value['yc'].reverse_min_max([yc])\n",
    "                \n",
    "predicted_angles = model.predict([[xc_px, yc_px, xc, yc]])\n",
    "t0, t1, t2, t3 = predicted_angles[0]\n",
    "print(f\"Posições Preditas: axis0={t0}, axis1={t1}, axis2={t2}, axis3={t3}\")"
   ]
  }
 ],
 "metadata": {
  "kernelspec": {
   "display_name": ".auto",
   "language": "python",
   "name": "python3"
  },
  "language_info": {
   "codemirror_mode": {
    "name": "ipython",
    "version": 3
   },
   "file_extension": ".py",
   "mimetype": "text/x-python",
   "name": "python",
   "nbconvert_exporter": "python",
   "pygments_lexer": "ipython3",
   "version": "3.12.2"
  }
 },
 "nbformat": 4,
 "nbformat_minor": 5
}

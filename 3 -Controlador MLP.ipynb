{
 "cells": [
  {
   "cell_type": "code",
   "execution_count": 12,
   "metadata": {},
   "outputs": [
    {
     "data": {
      "application/vnd.microsoft.datawrangler.viewer.v0+json": {
       "columns": [
        {
         "name": "index",
         "rawType": "int64",
         "type": "integer"
        },
        {
         "name": "x",
         "rawType": "float64",
         "type": "float"
        },
        {
         "name": "y",
         "rawType": "float64",
         "type": "float"
        },
        {
         "name": "z",
         "rawType": "float64",
         "type": "float"
        },
        {
         "name": "t0",
         "rawType": "float64",
         "type": "float"
        },
        {
         "name": "t1",
         "rawType": "float64",
         "type": "float"
        },
        {
         "name": "t2",
         "rawType": "float64",
         "type": "float"
        },
        {
         "name": "t3",
         "rawType": "float64",
         "type": "float"
        },
        {
         "name": "xc_px",
         "rawType": "float64",
         "type": "float"
        },
        {
         "name": "yc_px",
         "rawType": "float64",
         "type": "float"
        },
        {
         "name": "xc",
         "rawType": "float64",
         "type": "float"
        },
        {
         "name": "yc",
         "rawType": "float64",
         "type": "float"
        },
        {
         "name": "diagonal",
         "rawType": "float64",
         "type": "float"
        }
       ],
       "conversionMethod": "pd.DataFrame",
       "ref": "7982b4ca-369d-41b9-8367-547ee74e2e48",
       "rows": [
        [
         "7",
         "0.5789473684210527",
         "0.024390243902439046",
         "0.0",
         "0.17083600336650745",
         "0.05847268362837918",
         "0.11515462003635901",
         "0.6393755306723206",
         "0.012173913043478257",
         "0.591044776119403",
         "0.9878260869565217",
         "0.5910447761194031",
         "0.10585873286657765"
        ],
        [
         "8",
         "0.6315789473684211",
         "0.04878048780487804",
         "0.0",
         "0.192219555146147",
         "0.06616072914891605",
         "0.1297965840394728",
         "0.6545757998370749",
         "0.03130434782608693",
         "0.6358208955223881",
         "0.968695652173913",
         "0.6358208955223881",
         "0.08598006696842075"
        ],
        [
         "9",
         "0.6842105263157895",
         "0.07317073170731703",
         "0.0",
         "0.2136728361208366",
         "0.06616072914891605",
         "0.1297965840394728",
         "0.6545757998370749",
         "0.05739130434782608",
         "0.6895522388059702",
         "0.942608695652174",
         "0.6895522388059703",
         "0.08528372488273073"
        ],
        [
         "10",
         "0.7368421052631579",
         "0.09756097560975607",
         "0.0",
         "0.2350563879004762",
         "0.05847268362837918",
         "0.11515462003635901",
         "0.6393755306723206",
         "0.08173913043478259",
         "0.7283582089552239",
         "0.9182608695652175",
         "0.7283582089552241",
         "0.0871401993047507"
        ],
        [
         "11",
         "0.7894736842105264",
         "0.12195121951219512",
         "0.0",
         "0.2562334426501044",
         "0.04167600777466718",
         "0.08276445357871487",
         "0.605065448858616",
         "0.10434782608695653",
         "0.7791044776119402",
         "0.8956521739130434",
         "0.7791044776119405",
         "0.16838133114289766"
        ]
       ],
       "shape": {
        "columns": 12,
        "rows": 5
       }
      },
      "text/html": [
       "<div>\n",
       "<style scoped>\n",
       "    .dataframe tbody tr th:only-of-type {\n",
       "        vertical-align: middle;\n",
       "    }\n",
       "\n",
       "    .dataframe tbody tr th {\n",
       "        vertical-align: top;\n",
       "    }\n",
       "\n",
       "    .dataframe thead th {\n",
       "        text-align: right;\n",
       "    }\n",
       "</style>\n",
       "<table border=\"1\" class=\"dataframe\">\n",
       "  <thead>\n",
       "    <tr style=\"text-align: right;\">\n",
       "      <th></th>\n",
       "      <th>x</th>\n",
       "      <th>y</th>\n",
       "      <th>z</th>\n",
       "      <th>t0</th>\n",
       "      <th>t1</th>\n",
       "      <th>t2</th>\n",
       "      <th>t3</th>\n",
       "      <th>xc_px</th>\n",
       "      <th>yc_px</th>\n",
       "      <th>xc</th>\n",
       "      <th>yc</th>\n",
       "      <th>diagonal</th>\n",
       "    </tr>\n",
       "  </thead>\n",
       "  <tbody>\n",
       "    <tr>\n",
       "      <th>7</th>\n",
       "      <td>0.578947</td>\n",
       "      <td>0.024390</td>\n",
       "      <td>0.0</td>\n",
       "      <td>0.170836</td>\n",
       "      <td>0.058473</td>\n",
       "      <td>0.115155</td>\n",
       "      <td>0.639376</td>\n",
       "      <td>0.012174</td>\n",
       "      <td>0.591045</td>\n",
       "      <td>0.987826</td>\n",
       "      <td>0.591045</td>\n",
       "      <td>0.105859</td>\n",
       "    </tr>\n",
       "    <tr>\n",
       "      <th>8</th>\n",
       "      <td>0.631579</td>\n",
       "      <td>0.048780</td>\n",
       "      <td>0.0</td>\n",
       "      <td>0.192220</td>\n",
       "      <td>0.066161</td>\n",
       "      <td>0.129797</td>\n",
       "      <td>0.654576</td>\n",
       "      <td>0.031304</td>\n",
       "      <td>0.635821</td>\n",
       "      <td>0.968696</td>\n",
       "      <td>0.635821</td>\n",
       "      <td>0.085980</td>\n",
       "    </tr>\n",
       "    <tr>\n",
       "      <th>9</th>\n",
       "      <td>0.684211</td>\n",
       "      <td>0.073171</td>\n",
       "      <td>0.0</td>\n",
       "      <td>0.213673</td>\n",
       "      <td>0.066161</td>\n",
       "      <td>0.129797</td>\n",
       "      <td>0.654576</td>\n",
       "      <td>0.057391</td>\n",
       "      <td>0.689552</td>\n",
       "      <td>0.942609</td>\n",
       "      <td>0.689552</td>\n",
       "      <td>0.085284</td>\n",
       "    </tr>\n",
       "    <tr>\n",
       "      <th>10</th>\n",
       "      <td>0.736842</td>\n",
       "      <td>0.097561</td>\n",
       "      <td>0.0</td>\n",
       "      <td>0.235056</td>\n",
       "      <td>0.058473</td>\n",
       "      <td>0.115155</td>\n",
       "      <td>0.639376</td>\n",
       "      <td>0.081739</td>\n",
       "      <td>0.728358</td>\n",
       "      <td>0.918261</td>\n",
       "      <td>0.728358</td>\n",
       "      <td>0.087140</td>\n",
       "    </tr>\n",
       "    <tr>\n",
       "      <th>11</th>\n",
       "      <td>0.789474</td>\n",
       "      <td>0.121951</td>\n",
       "      <td>0.0</td>\n",
       "      <td>0.256233</td>\n",
       "      <td>0.041676</td>\n",
       "      <td>0.082764</td>\n",
       "      <td>0.605065</td>\n",
       "      <td>0.104348</td>\n",
       "      <td>0.779104</td>\n",
       "      <td>0.895652</td>\n",
       "      <td>0.779104</td>\n",
       "      <td>0.168381</td>\n",
       "    </tr>\n",
       "  </tbody>\n",
       "</table>\n",
       "</div>"
      ],
      "text/plain": [
       "           x         y    z        t0        t1        t2        t3     xc_px  \\\n",
       "7   0.578947  0.024390  0.0  0.170836  0.058473  0.115155  0.639376  0.012174   \n",
       "8   0.631579  0.048780  0.0  0.192220  0.066161  0.129797  0.654576  0.031304   \n",
       "9   0.684211  0.073171  0.0  0.213673  0.066161  0.129797  0.654576  0.057391   \n",
       "10  0.736842  0.097561  0.0  0.235056  0.058473  0.115155  0.639376  0.081739   \n",
       "11  0.789474  0.121951  0.0  0.256233  0.041676  0.082764  0.605065  0.104348   \n",
       "\n",
       "       yc_px        xc        yc  diagonal  \n",
       "7   0.591045  0.987826  0.591045  0.105859  \n",
       "8   0.635821  0.968696  0.635821  0.085980  \n",
       "9   0.689552  0.942609  0.689552  0.085284  \n",
       "10  0.728358  0.918261  0.728358  0.087140  \n",
       "11  0.779104  0.895652  0.779104  0.168381  "
      ]
     },
     "execution_count": 12,
     "metadata": {},
     "output_type": "execute_result"
    }
   ],
   "source": [
    "import pandas as pd\n",
    "from sklearn.model_selection import train_test_split, RandomizedSearchCV\n",
    "from sklearn.neural_network import MLPRegressor\n",
    "from sklearn.preprocessing import MinMaxScaler\n",
    "\n",
    "df = pd.read_csv('data/train_data.csv')\n",
    "df = df.dropna()\n",
    "\n",
    "min_max_values = {}\n",
    "\n",
    "scaler = MinMaxScaler()\n",
    "for column in df.columns:\n",
    "    if df[column].dtype == 'float64':\n",
    "        min_max_values[column] = (df[column].min(), df[column].max())\n",
    "        df[column] = scaler.fit_transform(df[[column]])\n",
    "\n",
    "df.head()"
   ]
  },
  {
   "cell_type": "code",
   "execution_count": null,
   "metadata": {},
   "outputs": [],
   "source": [
    "X = df[['xc_px', 'yc_px', 'xc', 'yc']].values\n",
    "y = df[['t0', 't1', 't2', 't3']].values\n",
    "\n",
    "X_train, X_test, y_train, y_test = train_test_split(X, y, test_size=0.2, random_state=42)"
   ]
  },
  {
   "cell_type": "markdown",
   "metadata": {},
   "source": [
    "## 1. Utilizando o Mean Squared Error"
   ]
  },
  {
   "cell_type": "code",
   "execution_count": 5,
   "metadata": {},
   "outputs": [
    {
     "name": "stderr",
     "output_type": "stream",
     "text": [
      "c:\\Users\\rubenslima\\Desktop\\Faculdade\\autom\\mlp-robot\\.auto\\Lib\\site-packages\\sklearn\\model_selection\\_validation.py:528: FitFailedWarning: \n",
      "6 fits failed out of a total of 30.\n",
      "The score on these train-test partitions for these parameters will be set to nan.\n",
      "If these failures are not expected, you can try to debug them by setting error_score='raise'.\n",
      "\n",
      "Below are more details about the failures:\n",
      "--------------------------------------------------------------------------------\n",
      "6 fits failed with the following error:\n",
      "Traceback (most recent call last):\n",
      "  File \"c:\\Users\\rubenslima\\Desktop\\Faculdade\\autom\\mlp-robot\\.auto\\Lib\\site-packages\\sklearn\\model_selection\\_validation.py\", line 866, in _fit_and_score\n",
      "    estimator.fit(X_train, y_train, **fit_params)\n",
      "  File \"c:\\Users\\rubenslima\\Desktop\\Faculdade\\autom\\mlp-robot\\.auto\\Lib\\site-packages\\sklearn\\base.py\", line 1389, in wrapper\n",
      "    return fit_method(estimator, *args, **kwargs)\n",
      "           ^^^^^^^^^^^^^^^^^^^^^^^^^^^^^^^^^^^^^^\n",
      "  File \"c:\\Users\\rubenslima\\Desktop\\Faculdade\\autom\\mlp-robot\\.auto\\Lib\\site-packages\\sklearn\\neural_network\\_multilayer_perceptron.py\", line 754, in fit\n",
      "    return self._fit(X, y, incremental=False)\n",
      "           ^^^^^^^^^^^^^^^^^^^^^^^^^^^^^^^^^^\n",
      "  File \"c:\\Users\\rubenslima\\Desktop\\Faculdade\\autom\\mlp-robot\\.auto\\Lib\\site-packages\\sklearn\\neural_network\\_multilayer_perceptron.py\", line 496, in _fit\n",
      "    raise ValueError(\n",
      "ValueError: Solver produced non-finite parameter weights. The input data may contain large values and need to be preprocessed.\n",
      "\n",
      "  warnings.warn(some_fits_failed_message, FitFailedWarning)\n",
      "c:\\Users\\rubenslima\\Desktop\\Faculdade\\autom\\mlp-robot\\.auto\\Lib\\site-packages\\sklearn\\model_selection\\_search.py:1108: UserWarning: One or more of the test scores are non-finite: [ 2.97006722e-01  2.97888827e-01  5.82712448e-02 -1.57436071e+29\n",
      "  7.38543393e-01  4.18744704e-01  2.41236043e-01             nan\n",
      "             nan  6.77555737e-01]\n",
      "  warnings.warn(\n"
     ]
    },
    {
     "name": "stdout",
     "output_type": "stream",
     "text": [
      "Melhores parâmetros encontrados: {'solver': 'lbfgs', 'learning_rate_init': 0.01, 'learning_rate': 'adaptive', 'hidden_layer_sizes': (100,), 'alpha': 0.0001, 'activation': 'logistic'}\n"
     ]
    },
    {
     "name": "stderr",
     "output_type": "stream",
     "text": [
      "c:\\Users\\rubenslima\\Desktop\\Faculdade\\autom\\mlp-robot\\.auto\\Lib\\site-packages\\sklearn\\neural_network\\_multilayer_perceptron.py:546: ConvergenceWarning: lbfgs failed to converge (status=1):\n",
      "STOP: TOTAL NO. OF ITERATIONS REACHED LIMIT.\n",
      "\n",
      "Increase the number of iterations (max_iter) or scale the data as shown in:\n",
      "    https://scikit-learn.org/stable/modules/preprocessing.html\n",
      "  self.n_iter_ = _check_optimize_result(\"lbfgs\", opt_res, self.max_iter)\n"
     ]
    }
   ],
   "source": [
    "from sklearn.metrics import mean_squared_error\n",
    "\n",
    "mlp = MLPRegressor(max_iter=1000, random_state=42)\n",
    "\n",
    "param_dist = {\n",
    "    'hidden_layer_sizes': [(50,), (100,), (100, 100), (200,)],\n",
    "    'activation': ['relu', 'tanh', 'logistic'],\n",
    "    'solver': ['adam', 'sgd', 'lbfgs'],\n",
    "    'alpha': [0.0001, 0.001, 0.01, 0.1, 1],\n",
    "    'learning_rate': ['constant', 'invscaling', 'adaptive'],\n",
    "    'learning_rate_init': [0.001, 0.01, 0.1]\n",
    "}\n",
    "\n",
    "random_search = RandomizedSearchCV(mlp, param_distributions=param_dist, n_iter=10, cv=3, random_state=42, n_jobs=-1)\n",
    "random_search.fit(X_train, y_train)\n",
    "\n",
    "print(\"Melhores parâmetros encontrados:\", random_search.best_params_)\n"
   ]
  },
  {
   "cell_type": "code",
   "execution_count": null,
   "metadata": {},
   "outputs": [],
   "source": []
  }
 ],
 "metadata": {
  "kernelspec": {
   "display_name": ".auto",
   "language": "python",
   "name": "python3"
  },
  "language_info": {
   "codemirror_mode": {
    "name": "ipython",
    "version": 3
   },
   "file_extension": ".py",
   "mimetype": "text/x-python",
   "name": "python",
   "nbconvert_exporter": "python",
   "pygments_lexer": "ipython3",
   "version": "3.12.9"
  }
 },
 "nbformat": 4,
 "nbformat_minor": 2
}

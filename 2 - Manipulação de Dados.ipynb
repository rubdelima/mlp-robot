{
 "cells": [
  {
   "cell_type": "code",
   "execution_count": null,
   "id": "cfa4439f",
   "metadata": {},
   "outputs": [],
   "source": [
    "import numpy as np\n",
    "import matplotlib.pyplot as plt\n",
    "import pandas as pd\n",
    "\n",
    "largo_aruco = 3.2 \n",
    "alto_aruco = 4.8 \n",
    "\n",
    "diagonal_aruco = np.sqrt(largo_aruco**2 + alto_aruco**2)\n",
    "diagonal_aruco \n",
    "\n",
    "distancia_camera_ao_chao = 65 \n",
    "distancia_do_robo = 1 \n",
    "z_robo = 12 \n",
    "resolucao_camera_x = 640 \n",
    "resolucao_camera_y = 480 \n",
    "\n",
    "\n",
    "# Carregar o DataFrame\n",
    "colected_df  = pd.read_csv('./data/data.csv')\n",
    "\n",
    "# Calcular a média da coluna \"diagonal\" do seu DataFrame\n",
    "media_diagonal = colected_df['diagonal'].mean()\n",
    "media_diagonal\n",
    "\n",
    "# Usaremos a relação entre a diagonal real e a diagonal observada (projeção na câmera) para calcular as distâncias reais\n",
    "\n",
    "# Proporção de escala entre a resolução da câmera e o tamanho real\n",
    "focal_length = (resolucao_camera_x / diagonal_aruco) * distancia_camera_ao_chao  # Como a resolução está em pixels\n",
    "\n",
    "print(\"Distância focal aproximada:\", focal_length)\n",
    "\n",
    "# Calcular as distâncias reais com base nas colunas xc e yc da imagem\n",
    "# Usamos uma simplificação baseada na relação entre pixels e tamanho real\n",
    "colected_df['real_x'] = (colected_df['xc'] - resolucao_camera_x / 2) * (largo_aruco / resolucao_camera_x)\n",
    "colected_df['real_y'] = (colected_df['yc'] - resolucao_camera_y / 2) * (alto_aruco / resolucao_camera_y)\n",
    "\n",
    "# Exibir os valores reais calculados\n",
    "colected_df[['x', 'y', 'real_x', 'real_y']]\n"
   ]
  }
 ],
 "metadata": {
  "kernelspec": {
   "display_name": ".auto",
   "language": "python",
   "name": "python3"
  },
  "language_info": {
   "codemirror_mode": {
    "name": "ipython",
    "version": 3
   },
   "file_extension": ".py",
   "mimetype": "text/x-python",
   "name": "python",
   "nbconvert_exporter": "python",
   "pygments_lexer": "ipython3",
   "version": "3.12.9"
  }
 },
 "nbformat": 4,
 "nbformat_minor": 5
}

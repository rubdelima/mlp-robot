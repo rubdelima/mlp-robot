{
 "cells": [
  {
   "cell_type": "code",
   "execution_count": null,
   "id": "34b5a70c",
   "metadata": {},
   "outputs": [
    {
     "data": {
      "application/vnd.microsoft.datawrangler.viewer.v0+json": {
       "columns": [
        {
         "name": "index",
         "rawType": "int64",
         "type": "integer"
        },
        {
         "name": "x",
         "rawType": "float64",
         "type": "float"
        },
        {
         "name": "y",
         "rawType": "float64",
         "type": "float"
        },
        {
         "name": "z",
         "rawType": "float64",
         "type": "float"
        },
        {
         "name": "t0",
         "rawType": "float64",
         "type": "float"
        },
        {
         "name": "t1",
         "rawType": "float64",
         "type": "float"
        },
        {
         "name": "t2",
         "rawType": "float64",
         "type": "float"
        },
        {
         "name": "t3",
         "rawType": "float64",
         "type": "float"
        },
        {
         "name": "xc_px",
         "rawType": "float64",
         "type": "float"
        },
        {
         "name": "yc_px",
         "rawType": "float64",
         "type": "float"
        },
        {
         "name": "xc",
         "rawType": "float64",
         "type": "float"
        },
        {
         "name": "yc",
         "rawType": "float64",
         "type": "float"
        },
        {
         "name": "diagonal",
         "rawType": "float64",
         "type": "float"
        }
       ],
       "conversionMethod": "pd.DataFrame",
       "ref": "7897b77e-8339-455a-b1ed-6d3f08b010d1",
       "rows": [
        [
         "0",
         "0.05",
         "-0.24",
         "0.12",
         "1.7682889320206383",
         "37.7118257390124",
         "81.02561920862155",
         "43.31379346960915",
         null,
         null,
         null,
         null,
         null
        ],
        [
         "1",
         "0.06",
         "-0.24",
         "0.12",
         "4.036243467926468",
         "35.19606745133599",
         "77.04502010815916",
         "41.84895265682317",
         null,
         null,
         null,
         null,
         null
        ],
        [
         "2",
         "0.07",
         "-0.24",
         "0.12",
         "6.26020470831196",
         "31.75358835954819",
         "71.46922979463022",
         "39.71564143508203",
         null,
         null,
         null,
         null,
         null
        ],
        [
         "3",
         "0.1",
         "-0.23",
         "0.12",
         "13.498565675952094",
         "30.52869048164186",
         "69.44917753517718",
         "38.920487053535325",
         null,
         null,
         null,
         null,
         null
        ],
        [
         "4",
         "0.12",
         "-0.22",
         "0.12",
         "18.61045966596521",
         "30.845047846496456",
         "69.97272354175345",
         "39.12767569525699",
         null,
         null,
         null,
         null,
         null
        ]
       ],
       "shape": {
        "columns": 12,
        "rows": 5
       }
      },
      "text/html": [
       "<div>\n",
       "<style scoped>\n",
       "    .dataframe tbody tr th:only-of-type {\n",
       "        vertical-align: middle;\n",
       "    }\n",
       "\n",
       "    .dataframe tbody tr th {\n",
       "        vertical-align: top;\n",
       "    }\n",
       "\n",
       "    .dataframe thead th {\n",
       "        text-align: right;\n",
       "    }\n",
       "</style>\n",
       "<table border=\"1\" class=\"dataframe\">\n",
       "  <thead>\n",
       "    <tr style=\"text-align: right;\">\n",
       "      <th></th>\n",
       "      <th>x</th>\n",
       "      <th>y</th>\n",
       "      <th>z</th>\n",
       "      <th>t0</th>\n",
       "      <th>t1</th>\n",
       "      <th>t2</th>\n",
       "      <th>t3</th>\n",
       "      <th>xc_px</th>\n",
       "      <th>yc_px</th>\n",
       "      <th>xc</th>\n",
       "      <th>yc</th>\n",
       "      <th>diagonal</th>\n",
       "    </tr>\n",
       "  </thead>\n",
       "  <tbody>\n",
       "    <tr>\n",
       "      <th>0</th>\n",
       "      <td>0.05</td>\n",
       "      <td>-0.24</td>\n",
       "      <td>0.12</td>\n",
       "      <td>1.768289</td>\n",
       "      <td>37.711826</td>\n",
       "      <td>81.025619</td>\n",
       "      <td>43.313793</td>\n",
       "      <td>NaN</td>\n",
       "      <td>NaN</td>\n",
       "      <td>NaN</td>\n",
       "      <td>NaN</td>\n",
       "      <td>NaN</td>\n",
       "    </tr>\n",
       "    <tr>\n",
       "      <th>1</th>\n",
       "      <td>0.06</td>\n",
       "      <td>-0.24</td>\n",
       "      <td>0.12</td>\n",
       "      <td>4.036243</td>\n",
       "      <td>35.196067</td>\n",
       "      <td>77.045020</td>\n",
       "      <td>41.848953</td>\n",
       "      <td>NaN</td>\n",
       "      <td>NaN</td>\n",
       "      <td>NaN</td>\n",
       "      <td>NaN</td>\n",
       "      <td>NaN</td>\n",
       "    </tr>\n",
       "    <tr>\n",
       "      <th>2</th>\n",
       "      <td>0.07</td>\n",
       "      <td>-0.24</td>\n",
       "      <td>0.12</td>\n",
       "      <td>6.260205</td>\n",
       "      <td>31.753588</td>\n",
       "      <td>71.469230</td>\n",
       "      <td>39.715641</td>\n",
       "      <td>NaN</td>\n",
       "      <td>NaN</td>\n",
       "      <td>NaN</td>\n",
       "      <td>NaN</td>\n",
       "      <td>NaN</td>\n",
       "    </tr>\n",
       "    <tr>\n",
       "      <th>3</th>\n",
       "      <td>0.10</td>\n",
       "      <td>-0.23</td>\n",
       "      <td>0.12</td>\n",
       "      <td>13.498566</td>\n",
       "      <td>30.528690</td>\n",
       "      <td>69.449178</td>\n",
       "      <td>38.920487</td>\n",
       "      <td>NaN</td>\n",
       "      <td>NaN</td>\n",
       "      <td>NaN</td>\n",
       "      <td>NaN</td>\n",
       "      <td>NaN</td>\n",
       "    </tr>\n",
       "    <tr>\n",
       "      <th>4</th>\n",
       "      <td>0.12</td>\n",
       "      <td>-0.22</td>\n",
       "      <td>0.12</td>\n",
       "      <td>18.610460</td>\n",
       "      <td>30.845048</td>\n",
       "      <td>69.972724</td>\n",
       "      <td>39.127676</td>\n",
       "      <td>NaN</td>\n",
       "      <td>NaN</td>\n",
       "      <td>NaN</td>\n",
       "      <td>NaN</td>\n",
       "      <td>NaN</td>\n",
       "    </tr>\n",
       "  </tbody>\n",
       "</table>\n",
       "</div>"
      ],
      "text/plain": [
       "      x     y     z         t0         t1         t2         t3  xc_px  yc_px  \\\n",
       "0  0.05 -0.24  0.12   1.768289  37.711826  81.025619  43.313793    NaN    NaN   \n",
       "1  0.06 -0.24  0.12   4.036243  35.196067  77.045020  41.848953    NaN    NaN   \n",
       "2  0.07 -0.24  0.12   6.260205  31.753588  71.469230  39.715641    NaN    NaN   \n",
       "3  0.10 -0.23  0.12  13.498566  30.528690  69.449178  38.920487    NaN    NaN   \n",
       "4  0.12 -0.22  0.12  18.610460  30.845048  69.972724  39.127676    NaN    NaN   \n",
       "\n",
       "   xc  yc  diagonal  \n",
       "0 NaN NaN       NaN  \n",
       "1 NaN NaN       NaN  \n",
       "2 NaN NaN       NaN  \n",
       "3 NaN NaN       NaN  \n",
       "4 NaN NaN       NaN  "
      ]
     },
     "execution_count": 1,
     "metadata": {},
     "output_type": "execute_result"
    }
   ],
   "source": [
    "import pandas as pd\n",
    "\n",
    "df = pd.read_csv('data/data2.csv')\n",
    "df = df.dropna()\n",
    "\n",
    "df.head(5)"
   ]
  }
 ],
 "metadata": {
  "kernelspec": {
   "display_name": ".auto",
   "language": "python",
   "name": "python3"
  },
  "language_info": {
   "codemirror_mode": {
    "name": "ipython",
    "version": 3
   },
   "file_extension": ".py",
   "mimetype": "text/x-python",
   "name": "python",
   "nbconvert_exporter": "python",
   "pygments_lexer": "ipython3",
   "version": "3.12.9"
  }
 },
 "nbformat": 4,
 "nbformat_minor": 5
}
